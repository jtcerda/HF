{
 "cells": [
  {
   "cell_type": "markdown",
   "metadata": {},
   "source": [
    "# M1 Portfolio Theory I"
   ]
  },
  {
   "cell_type": "markdown",
   "metadata": {},
   "source": [
    "## JTCerda"
   ]
  },
  {
   "cell_type": "markdown",
   "metadata": {},
   "source": [
    "# 1 True / False"
   ]
  },
  {
   "cell_type": "markdown",
   "metadata": {},
   "source": [
    "1. Depends. If all assets on which we are performing the optimization are subject to the same inflation, then there is no difference. Returns might differ but the composition of the portfolio should not. However, if we are optimizing over assets on different currencies and different denominations, we might encounter some differences in our answer."
   ]
  },
  {
   "cell_type": "markdown",
   "metadata": {},
   "source": [
    "2. False. It is enough for many investors to take that risk in return of the premium."
   ]
  },
  {
   "cell_type": "markdown",
   "metadata": {},
   "source": [
    "3. Depends. It depends on how we define better performance. Usually we will get higher returns, but also higher volatility. This might be unwanted for an investor. It is not clear that we will get better Sharpe Ratio always so it can be the case that it has better performance but that is not always the case. "
   ]
  },
  {
   "cell_type": "markdown",
   "metadata": {},
   "source": [
    "4. False. In the data we studied in one of our HWs, we actually saw that the long only had better performance in the period and with the assets we made the comparison. However, to compare performance we may also want to know about other metrics like the market correlation. In that sense, a long only has very high market correlation unlike the long-short and that may take away all appeal from it. One of the advantages of momentum is that has lower market correlation."
   ]
  },
  {
   "cell_type": "markdown",
   "metadata": {},
   "source": [
    "5. False. DFA bases its strategy in broader portfolios and asset classes rather than in individual stocks. Improves its performance by doing smart rebalancing (less often, more cheap) and relies on other strategies like stocks borrowing to keep trading costs low. Also takes advantage from tax regulation when offering its products. "
   ]
  },
  {
   "cell_type": "markdown",
   "metadata": {},
   "source": [
    "## 2 Short Answer"
   ]
  },
  {
   "cell_type": "markdown",
   "metadata": {},
   "source": [
    "1. Harvard management Co makes sure its weights are realistic by doing a two stage optimization. First does it optimizing over very broad asset classes and as a second stage, optimizes within each class to select the assets. One of the drawbacks will be that by doing this, it might pick two assets highly correlated in different classes."
   ]
  },
  {
   "cell_type": "markdown",
   "metadata": {},
   "source": [
    "2. Fama and French construct the factors by decomposing into the other factors, trying the different combinations. For example, when examining momentum (not one of their 5 factors) they test it by decomposing momentum for small and for big firms, thus controlling right away by the size factor. We did this in one of our homeworks."
   ]
  },
  {
   "cell_type": "markdown",
   "metadata": {},
   "source": [
    "3. This is related to the pepperoni pizza analogy. DFA is confident that they are the best on providing the beta. They do it in a smart way by lowering trading costs and tax breaks strategies."
   ]
  },
  {
   "cell_type": "markdown",
   "metadata": {},
   "source": [
    "4. As in the CAPM, with the time series regression we asess the statistical significance of the parameters for each individual asset. On the other hand, when doing the cross section we are testing the model across the assets and so is a broader test of the model, we study the $R^2$. "
   ]
  },
  {
   "cell_type": "markdown",
   "metadata": {},
   "source": [
    "5. When doing a top-down replication strategy like the one proposed by ProShares in order to get hedge-fund exposure it is possible to gain in diversification, liquidity and transparency. However, it may not be easy to market it to investors as there is a high chance that it trails its benchmark do to restrictions that hedge funds don't face, like strict withdrawal rules, reporting, etc. "
   ]
  },
  {
   "cell_type": "markdown",
   "metadata": {},
   "source": [
    "## 3 Allocation "
   ]
  },
  {
   "cell_type": "code",
   "execution_count": 1,
   "metadata": {},
   "outputs": [],
   "source": [
    "#Import some libraries\n",
    "import numpy as np\n",
    "import pandas as pd\n",
    "import statsmodels.formula.api as smf\n",
    "import statsmodels.api as sm\n",
    "import matplotlib.pyplot as plt\n",
    "import seaborn as sns\n",
    "from dataclasses import dataclass\n",
    "import warnings\n",
    "sns.set()\n",
    "\n",
    "pd.set_option('display.float_format', lambda x: '%.4f' % x)"
   ]
  },
  {
   "cell_type": "code",
   "execution_count": 2,
   "metadata": {},
   "outputs": [],
   "source": [
    "#Paths\n",
    "path = 'data/momentum_data.xlsx'\n",
    "ff_data_path = 'data/ff_data.xlsx'\n",
    "\n",
    "#Momentum\n",
    "df_factor_mom = pd.read_excel(path, sheet_name='Momentum Factor').set_index('date')\n",
    "ff_factors_df_temp = pd.read_excel(ff_data_path, sheet_name='FACTORS').set_index('date') #MKT, SMB, HML, RF\n",
    "ff_factors_df_temp.columns = ff_factors_df_temp.columns.str.strip() #?\n",
    "ff_factors_names = ff_factors_df_temp.columns#?\n",
    "df_factor = df_factor_mom.join(ff_factors_df_temp).rename(columns={\"MOM\": \"rx_mom_FF\", \"MKT\": \"rx_mkt\", \"SMB\": \"rx_size\", \"HML\": \"rx_value\", \"RF\": \"r_f\"})\n",
    "\n",
    "#FF data\n",
    "ff_data_path = 'data/ff_data.xlsx'\n",
    "temp = pd.read_excel(ff_data_path, sheet_name='PORTFOLIOS').set_index('date')\n",
    "temp.columns = temp.columns.str.strip()\n",
    "ind_portfolios_names = temp.columns\n",
    "df_industries = df_factor.join(temp)\n",
    "\n",
    "temp = pd.read_excel(path, sheet_name='Momentum Deciles').set_index('date')\n",
    "temp.columns = temp.columns.str.strip()\n",
    "momentum_portfolio_names = temp.columns\n",
    "df_momentum = df_factor.join(temp)\n",
    "\n",
    "temp = pd.read_excel(path, sheet_name='Momentum by Size').set_index('date')\n",
    "temp.columns = temp.columns.str.strip()\n",
    "mom_size_portfolio_names = temp.columns\n",
    "df_mom_size = df_factor.join(temp)\n",
    "\n",
    "del temp"
   ]
  },
  {
   "cell_type": "markdown",
   "metadata": {},
   "source": [
    "### 3.1"
   ]
  },
  {
   "cell_type": "code",
   "execution_count": 3,
   "metadata": {},
   "outputs": [],
   "source": [
    "df_4_factors = df_factor[['rx_mom_FF','rx_mkt', 'rx_size', 'rx_value']]"
   ]
  },
  {
   "cell_type": "code",
   "execution_count": 4,
   "metadata": {},
   "outputs": [],
   "source": [
    "def table_row(df, portfolio, annualize_factor=12):\n",
    "    mean = df[portfolio].mean() * annualize_factor\n",
    "    vol = df[portfolio].std() * np.sqrt(annualize_factor)\n",
    "    sharpe_ratio = mean/vol\n",
    "    skew = df[portfolio].skew() #unscaled\n",
    "    corr = df[[portfolio, 'rx_mkt', 'rx_value']].corr()\n",
    "    corr_to_mkt = corr.loc[portfolio, 'rx_mkt']\n",
    "    corr_to_value = corr.loc[portfolio, 'rx_value']\n",
    "    return [mean, vol, sharpe_ratio]"
   ]
  },
  {
   "cell_type": "code",
   "execution_count": 5,
   "metadata": {},
   "outputs": [],
   "source": [
    "table_3_1 = pd.DataFrame(index=['rx_mom_FF', 'rx_mkt', 'rx_size', 'rx_value'],\n",
    "    columns=['mean ', 'vol ', 'sharpe_ratio '])\n",
    "table_3_1.loc['rx_mom_FF', :] = table_row(df_4_factors, portfolio='rx_mom_FF')\n",
    "table_3_1.loc['rx_mkt', :] = table_row(df_4_factors, portfolio='rx_mkt')\n",
    "table_3_1.loc['rx_size', :] = table_row(df_4_factors, portfolio='rx_size')\n",
    "table_3_1.loc['rx_value', :] = table_row(df_4_factors, portfolio='rx_value')"
   ]
  },
  {
   "cell_type": "code",
   "execution_count": 6,
   "metadata": {
    "scrolled": true
   },
   "outputs": [
    {
     "name": "stdout",
     "output_type": "stream",
     "text": [
      "Moments stats\n"
     ]
    },
    {
     "data": {
      "text/html": [
       "<div>\n",
       "<style scoped>\n",
       "    .dataframe tbody tr th:only-of-type {\n",
       "        vertical-align: middle;\n",
       "    }\n",
       "\n",
       "    .dataframe tbody tr th {\n",
       "        vertical-align: top;\n",
       "    }\n",
       "\n",
       "    .dataframe thead th {\n",
       "        text-align: right;\n",
       "    }\n",
       "</style>\n",
       "<table border=\"1\" class=\"dataframe\">\n",
       "  <thead>\n",
       "    <tr style=\"text-align: right;\">\n",
       "      <th></th>\n",
       "      <th>mean</th>\n",
       "      <th>vol</th>\n",
       "      <th>sharpe_ratio</th>\n",
       "    </tr>\n",
       "  </thead>\n",
       "  <tbody>\n",
       "    <tr>\n",
       "      <td>rx_mom_FF</td>\n",
       "      <td>0.0796</td>\n",
       "      <td>0.1626</td>\n",
       "      <td>0.4893</td>\n",
       "    </tr>\n",
       "    <tr>\n",
       "      <td>rx_mkt</td>\n",
       "      <td>0.0804</td>\n",
       "      <td>0.1857</td>\n",
       "      <td>0.4332</td>\n",
       "    </tr>\n",
       "    <tr>\n",
       "      <td>rx_size</td>\n",
       "      <td>0.0233</td>\n",
       "      <td>0.1102</td>\n",
       "      <td>0.2118</td>\n",
       "    </tr>\n",
       "    <tr>\n",
       "      <td>rx_value</td>\n",
       "      <td>0.0390</td>\n",
       "      <td>0.1217</td>\n",
       "      <td>0.3204</td>\n",
       "    </tr>\n",
       "  </tbody>\n",
       "</table>\n",
       "</div>"
      ],
      "text/plain": [
       "           mean    vol  sharpe_ratio \n",
       "rx_mom_FF 0.0796 0.1626        0.4893\n",
       "rx_mkt    0.0804 0.1857        0.4332\n",
       "rx_size   0.0233 0.1102        0.2118\n",
       "rx_value  0.0390 0.1217        0.3204"
      ]
     },
     "execution_count": 6,
     "metadata": {},
     "output_type": "execute_result"
    }
   ],
   "source": [
    "print('Moments stats')\n",
    "table_3_1"
   ]
  },
  {
   "cell_type": "code",
   "execution_count": 7,
   "metadata": {},
   "outputs": [
    {
     "name": "stdout",
     "output_type": "stream",
     "text": [
      "Moments correlation matrix\n"
     ]
    },
    {
     "data": {
      "text/html": [
       "<div>\n",
       "<style scoped>\n",
       "    .dataframe tbody tr th:only-of-type {\n",
       "        vertical-align: middle;\n",
       "    }\n",
       "\n",
       "    .dataframe tbody tr th {\n",
       "        vertical-align: top;\n",
       "    }\n",
       "\n",
       "    .dataframe thead th {\n",
       "        text-align: right;\n",
       "    }\n",
       "</style>\n",
       "<table border=\"1\" class=\"dataframe\">\n",
       "  <thead>\n",
       "    <tr style=\"text-align: right;\">\n",
       "      <th></th>\n",
       "      <th>rx_mom_FF</th>\n",
       "      <th>rx_mkt</th>\n",
       "      <th>rx_size</th>\n",
       "      <th>rx_value</th>\n",
       "    </tr>\n",
       "  </thead>\n",
       "  <tbody>\n",
       "    <tr>\n",
       "      <td>rx_mom_FF</td>\n",
       "      <td>1.0000</td>\n",
       "      <td>-0.3405</td>\n",
       "      <td>-0.1548</td>\n",
       "      <td>-0.4114</td>\n",
       "    </tr>\n",
       "    <tr>\n",
       "      <td>rx_mkt</td>\n",
       "      <td>-0.3405</td>\n",
       "      <td>1.0000</td>\n",
       "      <td>0.3235</td>\n",
       "      <td>0.2356</td>\n",
       "    </tr>\n",
       "    <tr>\n",
       "      <td>rx_size</td>\n",
       "      <td>-0.1548</td>\n",
       "      <td>0.3235</td>\n",
       "      <td>1.0000</td>\n",
       "      <td>0.1264</td>\n",
       "    </tr>\n",
       "    <tr>\n",
       "      <td>rx_value</td>\n",
       "      <td>-0.4114</td>\n",
       "      <td>0.2356</td>\n",
       "      <td>0.1264</td>\n",
       "      <td>1.0000</td>\n",
       "    </tr>\n",
       "  </tbody>\n",
       "</table>\n",
       "</div>"
      ],
      "text/plain": [
       "           rx_mom_FF  rx_mkt  rx_size  rx_value\n",
       "rx_mom_FF     1.0000 -0.3405  -0.1548   -0.4114\n",
       "rx_mkt       -0.3405  1.0000   0.3235    0.2356\n",
       "rx_size      -0.1548  0.3235   1.0000    0.1264\n",
       "rx_value     -0.4114  0.2356   0.1264    1.0000"
      ]
     },
     "execution_count": 7,
     "metadata": {},
     "output_type": "execute_result"
    }
   ],
   "source": [
    "print('Moments correlation matrix')\n",
    "df_4_factors.corr()"
   ]
  },
  {
   "cell_type": "markdown",
   "metadata": {},
   "source": [
    "### 3.2"
   ]
  },
  {
   "cell_type": "code",
   "execution_count": 8,
   "metadata": {},
   "outputs": [],
   "source": [
    "df_4_factors_in = df_4_factors[:'Dec 2010']\n",
    "#df_4_factors_in.tail()\n",
    "df_4_factors_out = df_4_factors['Jan 2011':]\n",
    "#df_4_factors_out.tail()"
   ]
  },
  {
   "cell_type": "code",
   "execution_count": 9,
   "metadata": {},
   "outputs": [
    {
     "name": "stdout",
     "output_type": "stream",
     "text": [
      "In sample data summary\n"
     ]
    },
    {
     "data": {
      "text/html": [
       "<div>\n",
       "<style scoped>\n",
       "    .dataframe tbody tr th:only-of-type {\n",
       "        vertical-align: middle;\n",
       "    }\n",
       "\n",
       "    .dataframe tbody tr th {\n",
       "        vertical-align: top;\n",
       "    }\n",
       "\n",
       "    .dataframe thead th {\n",
       "        text-align: right;\n",
       "    }\n",
       "</style>\n",
       "<table border=\"1\" class=\"dataframe\">\n",
       "  <thead>\n",
       "    <tr style=\"text-align: right;\">\n",
       "      <th></th>\n",
       "      <th>Mean</th>\n",
       "      <th>Vol</th>\n",
       "      <th>Sharpe</th>\n",
       "    </tr>\n",
       "  </thead>\n",
       "  <tbody>\n",
       "    <tr>\n",
       "      <td>rx_mom_FF</td>\n",
       "      <td>0.0833</td>\n",
       "      <td>0.1672</td>\n",
       "      <td>0.4984</td>\n",
       "    </tr>\n",
       "    <tr>\n",
       "      <td>rx_mkt</td>\n",
       "      <td>0.0746</td>\n",
       "      <td>0.1903</td>\n",
       "      <td>0.3922</td>\n",
       "    </tr>\n",
       "    <tr>\n",
       "      <td>rx_size</td>\n",
       "      <td>0.0281</td>\n",
       "      <td>0.1133</td>\n",
       "      <td>0.2480</td>\n",
       "    </tr>\n",
       "    <tr>\n",
       "      <td>rx_value</td>\n",
       "      <td>0.0503</td>\n",
       "      <td>0.1243</td>\n",
       "      <td>0.4050</td>\n",
       "    </tr>\n",
       "  </tbody>\n",
       "</table>\n",
       "</div>"
      ],
      "text/plain": [
       "            Mean    Vol  Sharpe\n",
       "rx_mom_FF 0.0833 0.1672  0.4984\n",
       "rx_mkt    0.0746 0.1903  0.3922\n",
       "rx_size   0.0281 0.1133  0.2480\n",
       "rx_value  0.0503 0.1243  0.4050"
      ]
     },
     "execution_count": 9,
     "metadata": {},
     "output_type": "execute_result"
    }
   ],
   "source": [
    "#Compute the stats and anualize\n",
    "mu_in = df_4_factors_in.mean()\n",
    "vol_in = df_4_factors_in.std()\n",
    "sharpe_in = mu_in / vol_in\n",
    "summary_in = pd.DataFrame({'Mean':mu_in * 12, 'Vol':vol_in * np.sqrt(12), 'Sharpe': sharpe_in * np.sqrt(12)})\n",
    "print('In sample data summary')\n",
    "summary_in"
   ]
  },
  {
   "cell_type": "code",
   "execution_count": 10,
   "metadata": {},
   "outputs": [
    {
     "name": "stdout",
     "output_type": "stream",
     "text": [
      "Weights of the in sample tangency portfolio\n"
     ]
    },
    {
     "data": {
      "text/plain": [
       "rx_mom_FF   0.3827\n",
       "rx_mkt      0.1788\n",
       "rx_size     0.0874\n",
       "rx_value    0.3511\n",
       "dtype: float64"
      ]
     },
     "execution_count": 10,
     "metadata": {},
     "output_type": "execute_result"
    }
   ],
   "source": [
    "Sigma_in = df_4_factors_in.cov()\n",
    "Sigma_inv_in = np.linalg.inv(Sigma_in)\n",
    "\n",
    "# from the formula for the tangency weights\n",
    "N_in = mu_in.shape[0]\n",
    "weights_in = Sigma_inv_in @ mu_in / (np.ones(N_in) @ Sigma_inv_in @ mu_in)      \n",
    "\n",
    "#Make a series\n",
    "wts_tan_in = pd.Series(weights_in, index=summary_in.index)\n",
    "\n",
    "print('Weights of the in sample tangency portfolio')\n",
    "wts_tan_in"
   ]
  },
  {
   "cell_type": "markdown",
   "metadata": {},
   "source": [
    "### 3.3"
   ]
  },
  {
   "cell_type": "code",
   "execution_count": 11,
   "metadata": {},
   "outputs": [
    {
     "name": "stdout",
     "output_type": "stream",
     "text": [
      "Tangency in-sample mean:  0.0653631836744814\n",
      "Tangency in-sample volatility:  0.06581818532903927\n",
      "Tangency in-sample sharpe ratio:  0.9930869918050275\n"
     ]
    }
   ],
   "source": [
    "#Compute the tangency in sample series and stats\n",
    "df_4_factors_tan_in = df_4_factors_in @ wts_tan_in\n",
    "mu_tan_in = df_4_factors_tan_in.mean()\n",
    "vol_tan_in = df_4_factors_tan_in.std()\n",
    "sharpe_tan_in = mu_tan_in / vol_tan_in\n",
    "print('Tangency in-sample mean: ', mu_tan_in * 12)\n",
    "print('Tangency in-sample volatility: ', vol_tan_in * np.sqrt(12))\n",
    "print('Tangency in-sample sharpe ratio: ', sharpe_tan_in * np.sqrt(12))"
   ]
  },
  {
   "cell_type": "markdown",
   "metadata": {},
   "source": [
    "### 3.4"
   ]
  },
  {
   "cell_type": "code",
   "execution_count": 12,
   "metadata": {},
   "outputs": [
    {
     "name": "stdout",
     "output_type": "stream",
     "text": [
      "Tangency out-sample mean:  0.01890503873877531\n",
      "Tangency out-sample volatility:  0.04326549539867129\n",
      "Tangency out-sample sharpe ratio:  0.4369541724779578\n"
     ]
    }
   ],
   "source": [
    "#Compute the tangency out sample series and stats\n",
    "df_4_factors_tan_out = df_4_factors_out @ wts_tan_in\n",
    "mu_tan_out = df_4_factors_tan_out.mean()\n",
    "vol_tan_out = df_4_factors_tan_out.std()\n",
    "sharpe_tan_out = mu_tan_out / vol_tan_out\n",
    "print('Tangency out-sample mean: ', mu_tan_out * 12)\n",
    "print('Tangency out-sample volatility: ', vol_tan_out * np.sqrt(12))\n",
    "print('Tangency out-sample sharpe ratio: ', sharpe_tan_out * np.sqrt(12))"
   ]
  },
  {
   "cell_type": "markdown",
   "metadata": {},
   "source": [
    "### 3.5"
   ]
  },
  {
   "cell_type": "markdown",
   "metadata": {},
   "source": [
    "Here we optimize using one dataset and the model fits that data. If we use those results out of sample, we can expect it to have a lower fit because of the different characteristics of the data in that particular period. For example, the in-sample includes the financial crisis of 08-09, and the out of sample not.\n",
    "Also, the optimal formula in MV optimization penalizes securities for marginal risk (covariance), not total risk (volatility). we would like overall risk optimization.\n",
    "In this case we see that it does affect as the mean return is very different and in concequence the sharpe ratio too. We obtain a poorer performance out of sample."
   ]
  },
  {
   "cell_type": "markdown",
   "metadata": {},
   "source": [
    "## 4 Hedging & Replication "
   ]
  },
  {
   "cell_type": "code",
   "execution_count": 13,
   "metadata": {},
   "outputs": [],
   "source": [
    "#df_4_factors.head()\n",
    "#df_4_factors.tail()\n",
    "# smb = df_4_factors['rx_size']\n",
    "# mkt = df_4_factors['rx_mkt']"
   ]
  },
  {
   "cell_type": "markdown",
   "metadata": {},
   "source": [
    "### 4.1.a"
   ]
  },
  {
   "cell_type": "code",
   "execution_count": 14,
   "metadata": {},
   "outputs": [
    {
     "name": "stderr",
     "output_type": "stream",
     "text": [
      "C:\\Users\\joset\\Anaconda3\\lib\\site-packages\\numpy\\core\\fromnumeric.py:2389: FutureWarning: Method .ptp is deprecated and will be removed in a future version. Use numpy.ptp instead.\n",
      "  return ptp(axis=axis, out=out, **kwargs)\n"
     ]
    },
    {
     "data": {
      "text/html": [
       "<table class=\"simpletable\">\n",
       "<caption>OLS Regression Results</caption>\n",
       "<tr>\n",
       "  <th>Dep. Variable:</th>         <td>rx_size</td>     <th>  R-squared:         </th> <td>   0.105</td>\n",
       "</tr>\n",
       "<tr>\n",
       "  <th>Model:</th>                   <td>OLS</td>       <th>  Adj. R-squared:    </th> <td>   0.104</td>\n",
       "</tr>\n",
       "<tr>\n",
       "  <th>Method:</th>             <td>Least Squares</td>  <th>  F-statistic:       </th> <td>   131.1</td>\n",
       "</tr>\n",
       "<tr>\n",
       "  <th>Date:</th>             <td>Wed, 18 Nov 2020</td> <th>  Prob (F-statistic):</th> <td>8.64e-29</td>\n",
       "</tr>\n",
       "<tr>\n",
       "  <th>Time:</th>                 <td>20:18:37</td>     <th>  Log-Likelihood:    </th> <td>  2342.7</td>\n",
       "</tr>\n",
       "<tr>\n",
       "  <th>No. Observations:</th>      <td>  1124</td>      <th>  AIC:               </th> <td>  -4681.</td>\n",
       "</tr>\n",
       "<tr>\n",
       "  <th>Df Residuals:</th>          <td>  1122</td>      <th>  BIC:               </th> <td>  -4671.</td>\n",
       "</tr>\n",
       "<tr>\n",
       "  <th>Df Model:</th>              <td>     1</td>      <th>                     </th>     <td> </td>   \n",
       "</tr>\n",
       "<tr>\n",
       "  <th>Covariance Type:</th>      <td>nonrobust</td>    <th>                     </th>     <td> </td>   \n",
       "</tr>\n",
       "</table>\n",
       "<table class=\"simpletable\">\n",
       "<tr>\n",
       "     <td></td>       <th>coef</th>     <th>std err</th>      <th>t</th>      <th>P>|t|</th>  <th>[0.025</th>    <th>0.975]</th>  \n",
       "</tr>\n",
       "<tr>\n",
       "  <th>const</th>  <td>    0.0007</td> <td>    0.001</td> <td>    0.727</td> <td> 0.468</td> <td>   -0.001</td> <td>    0.002</td>\n",
       "</tr>\n",
       "<tr>\n",
       "  <th>rx_mkt</th> <td>    0.1920</td> <td>    0.017</td> <td>   11.451</td> <td> 0.000</td> <td>    0.159</td> <td>    0.225</td>\n",
       "</tr>\n",
       "</table>\n",
       "<table class=\"simpletable\">\n",
       "<tr>\n",
       "  <th>Omnibus:</th>       <td>492.085</td> <th>  Durbin-Watson:     </th> <td>   2.037</td> \n",
       "</tr>\n",
       "<tr>\n",
       "  <th>Prob(Omnibus):</th> <td> 0.000</td>  <th>  Jarque-Bera (JB):  </th> <td>12031.768</td>\n",
       "</tr>\n",
       "<tr>\n",
       "  <th>Skew:</th>          <td> 1.457</td>  <th>  Prob(JB):          </th> <td>    0.00</td> \n",
       "</tr>\n",
       "<tr>\n",
       "  <th>Kurtosis:</th>      <td>18.761</td>  <th>  Cond. No.          </th> <td>    18.7</td> \n",
       "</tr>\n",
       "</table><br/><br/>Warnings:<br/>[1] Standard Errors assume that the covariance matrix of the errors is correctly specified."
      ],
      "text/plain": [
       "<class 'statsmodels.iolib.summary.Summary'>\n",
       "\"\"\"\n",
       "                            OLS Regression Results                            \n",
       "==============================================================================\n",
       "Dep. Variable:                rx_size   R-squared:                       0.105\n",
       "Model:                            OLS   Adj. R-squared:                  0.104\n",
       "Method:                 Least Squares   F-statistic:                     131.1\n",
       "Date:                Wed, 18 Nov 2020   Prob (F-statistic):           8.64e-29\n",
       "Time:                        20:18:37   Log-Likelihood:                 2342.7\n",
       "No. Observations:                1124   AIC:                            -4681.\n",
       "Df Residuals:                    1122   BIC:                            -4671.\n",
       "Df Model:                           1                                         \n",
       "Covariance Type:            nonrobust                                         \n",
       "==============================================================================\n",
       "                 coef    std err          t      P>|t|      [0.025      0.975]\n",
       "------------------------------------------------------------------------------\n",
       "const          0.0007      0.001      0.727      0.468      -0.001       0.002\n",
       "rx_mkt         0.1920      0.017     11.451      0.000       0.159       0.225\n",
       "==============================================================================\n",
       "Omnibus:                      492.085   Durbin-Watson:                   2.037\n",
       "Prob(Omnibus):                  0.000   Jarque-Bera (JB):            12031.768\n",
       "Skew:                           1.457   Prob(JB):                         0.00\n",
       "Kurtosis:                      18.761   Cond. No.                         18.7\n",
       "==============================================================================\n",
       "\n",
       "Warnings:\n",
       "[1] Standard Errors assume that the covariance matrix of the errors is correctly specified.\n",
       "\"\"\""
      ]
     },
     "execution_count": 14,
     "metadata": {},
     "output_type": "execute_result"
    }
   ],
   "source": [
    "rhs_4_1 = sm.add_constant(df_4_factors[['rx_mkt']])\n",
    "lhs_4_1 = df_4_factors['rx_size']\n",
    "res_4_1 = sm.OLS(lhs_4_1, rhs_4_1, missing='drop').fit()\n",
    "betas_4_1 = res_4_1.params\n",
    "r_sq_4_1 = res_4_1.rsquared\n",
    "res_4_1.summary()"
   ]
  },
  {
   "cell_type": "code",
   "execution_count": 15,
   "metadata": {},
   "outputs": [
    {
     "name": "stdout",
     "output_type": "stream",
     "text": [
      "Regression parameters\n",
      "Alpha:  0.0006582302962350529\n",
      "Beta:  0.19204930753013147\n",
      "Regression R-squared:  0.10463264171320041\n"
     ]
    }
   ],
   "source": [
    "print('Regression parameters')\n",
    "print('Alpha: ', betas_4_1[0])\n",
    "print('Beta: ', betas_4_1[1])\n",
    "print('Regression R-squared: ', r_sq_4_1)"
   ]
  },
  {
   "cell_type": "markdown",
   "metadata": {},
   "source": [
    "### 4.1.b"
   ]
  },
  {
   "cell_type": "code",
   "execution_count": 16,
   "metadata": {},
   "outputs": [
    {
     "name": "stdout",
     "output_type": "stream",
     "text": [
      "Mean SMB*:  0.0006582302962350531\n",
      "Volatility SMB*:  0.030115250894454954\n",
      "Sharpe ratio SMB*:  0.021857041754091824\n"
     ]
    }
   ],
   "source": [
    "smb_star = df_4_factors['rx_size'] - df_4_factors['rx_mkt']*betas_4_1[1]\n",
    "mu_smb_star = smb_star.mean()\n",
    "vol_smb_star = smb_star.std()\n",
    "sharpe_smb_star = mu_smb_star / vol_smb_star\n",
    "print('Mean SMB*: ', mu_smb_star)\n",
    "print('Volatility SMB*: ', vol_smb_star)\n",
    "print('Sharpe ratio SMB*: ', sharpe_smb_star)"
   ]
  },
  {
   "cell_type": "code",
   "execution_count": 17,
   "metadata": {},
   "outputs": [],
   "source": [
    "smb_star_df = pd.DataFrame(df_4_factors)\n",
    "smb_star_df['smb*'] = smb_star\n",
    "#smb_star_df"
   ]
  },
  {
   "cell_type": "code",
   "execution_count": 18,
   "metadata": {},
   "outputs": [
    {
     "data": {
      "text/html": [
       "<div>\n",
       "<style scoped>\n",
       "    .dataframe tbody tr th:only-of-type {\n",
       "        vertical-align: middle;\n",
       "    }\n",
       "\n",
       "    .dataframe tbody tr th {\n",
       "        vertical-align: top;\n",
       "    }\n",
       "\n",
       "    .dataframe thead th {\n",
       "        text-align: right;\n",
       "    }\n",
       "</style>\n",
       "<table border=\"1\" class=\"dataframe\">\n",
       "  <thead>\n",
       "    <tr style=\"text-align: right;\">\n",
       "      <th></th>\n",
       "      <th>mean</th>\n",
       "      <th>vol</th>\n",
       "      <th>sharpe_ratio</th>\n",
       "    </tr>\n",
       "  </thead>\n",
       "  <tbody>\n",
       "    <tr>\n",
       "      <td>rx_mom_FF</td>\n",
       "      <td>0.0796</td>\n",
       "      <td>0.1626</td>\n",
       "      <td>0.4893</td>\n",
       "    </tr>\n",
       "    <tr>\n",
       "      <td>rx_mkt</td>\n",
       "      <td>0.0804</td>\n",
       "      <td>0.1857</td>\n",
       "      <td>0.4332</td>\n",
       "    </tr>\n",
       "    <tr>\n",
       "      <td>rx_size</td>\n",
       "      <td>0.0233</td>\n",
       "      <td>0.1102</td>\n",
       "      <td>0.2118</td>\n",
       "    </tr>\n",
       "    <tr>\n",
       "      <td>rx_value</td>\n",
       "      <td>0.0390</td>\n",
       "      <td>0.1217</td>\n",
       "      <td>0.3204</td>\n",
       "    </tr>\n",
       "    <tr>\n",
       "      <td>smb*</td>\n",
       "      <td>0.0079</td>\n",
       "      <td>0.1043</td>\n",
       "      <td>0.0757</td>\n",
       "    </tr>\n",
       "  </tbody>\n",
       "</table>\n",
       "</div>"
      ],
      "text/plain": [
       "           mean    vol  sharpe_ratio \n",
       "rx_mom_FF 0.0796 0.1626        0.4893\n",
       "rx_mkt    0.0804 0.1857        0.4332\n",
       "rx_size   0.0233 0.1102        0.2118\n",
       "rx_value  0.0390 0.1217        0.3204\n",
       "smb*      0.0079 0.1043        0.0757"
      ]
     },
     "execution_count": 18,
     "metadata": {},
     "output_type": "execute_result"
    }
   ],
   "source": [
    "table_4_1 = pd.DataFrame(index=['rx_mom_FF', 'rx_mkt', 'rx_size', 'rx_value', 'smb*'],\n",
    "    columns=['mean ', 'vol ', 'sharpe_ratio '])\n",
    "table_4_1.loc['rx_mom_FF', :] = table_row(smb_star_df, portfolio='rx_mom_FF')\n",
    "table_4_1.loc['rx_mkt', :] = table_row(smb_star_df, portfolio='rx_mkt')\n",
    "table_4_1.loc['rx_size', :] = table_row(smb_star_df, portfolio='rx_size')\n",
    "table_4_1.loc['rx_value', :] = table_row(smb_star_df, portfolio='rx_value')\n",
    "table_4_1.loc['smb*', :] = table_row(smb_star_df, portfolio='smb*')\n",
    "table_4_1"
   ]
  },
  {
   "cell_type": "markdown",
   "metadata": {},
   "source": [
    "### 4.1.c"
   ]
  },
  {
   "cell_type": "code",
   "execution_count": 19,
   "metadata": {},
   "outputs": [
    {
     "name": "stdout",
     "output_type": "stream",
     "text": [
      "Moments correlation matrix\n"
     ]
    },
    {
     "data": {
      "text/html": [
       "<div>\n",
       "<style scoped>\n",
       "    .dataframe tbody tr th:only-of-type {\n",
       "        vertical-align: middle;\n",
       "    }\n",
       "\n",
       "    .dataframe tbody tr th {\n",
       "        vertical-align: top;\n",
       "    }\n",
       "\n",
       "    .dataframe thead th {\n",
       "        text-align: right;\n",
       "    }\n",
       "</style>\n",
       "<table border=\"1\" class=\"dataframe\">\n",
       "  <thead>\n",
       "    <tr style=\"text-align: right;\">\n",
       "      <th></th>\n",
       "      <th>rx_mom_FF</th>\n",
       "      <th>rx_mkt</th>\n",
       "      <th>rx_size</th>\n",
       "      <th>rx_value</th>\n",
       "      <th>smb*</th>\n",
       "    </tr>\n",
       "  </thead>\n",
       "  <tbody>\n",
       "    <tr>\n",
       "      <td>rx_mom_FF</td>\n",
       "      <td>1.0000</td>\n",
       "      <td>-0.3405</td>\n",
       "      <td>-0.1548</td>\n",
       "      <td>-0.4114</td>\n",
       "      <td>-0.0472</td>\n",
       "    </tr>\n",
       "    <tr>\n",
       "      <td>rx_mkt</td>\n",
       "      <td>-0.3405</td>\n",
       "      <td>1.0000</td>\n",
       "      <td>0.3235</td>\n",
       "      <td>0.2356</td>\n",
       "      <td>-0.0000</td>\n",
       "    </tr>\n",
       "    <tr>\n",
       "      <td>rx_size</td>\n",
       "      <td>-0.1548</td>\n",
       "      <td>0.3235</td>\n",
       "      <td>1.0000</td>\n",
       "      <td>0.1264</td>\n",
       "      <td>0.9462</td>\n",
       "    </tr>\n",
       "    <tr>\n",
       "      <td>rx_value</td>\n",
       "      <td>-0.4114</td>\n",
       "      <td>0.2356</td>\n",
       "      <td>0.1264</td>\n",
       "      <td>1.0000</td>\n",
       "      <td>0.0530</td>\n",
       "    </tr>\n",
       "    <tr>\n",
       "      <td>smb*</td>\n",
       "      <td>-0.0472</td>\n",
       "      <td>-0.0000</td>\n",
       "      <td>0.9462</td>\n",
       "      <td>0.0530</td>\n",
       "      <td>1.0000</td>\n",
       "    </tr>\n",
       "  </tbody>\n",
       "</table>\n",
       "</div>"
      ],
      "text/plain": [
       "           rx_mom_FF  rx_mkt  rx_size  rx_value    smb*\n",
       "rx_mom_FF     1.0000 -0.3405  -0.1548   -0.4114 -0.0472\n",
       "rx_mkt       -0.3405  1.0000   0.3235    0.2356 -0.0000\n",
       "rx_size      -0.1548  0.3235   1.0000    0.1264  0.9462\n",
       "rx_value     -0.4114  0.2356   0.1264    1.0000  0.0530\n",
       "smb*         -0.0472 -0.0000   0.9462    0.0530  1.0000"
      ]
     },
     "execution_count": 19,
     "metadata": {},
     "output_type": "execute_result"
    }
   ],
   "source": [
    "print('Moments correlation matrix')\n",
    "smb_star_df.corr()"
   ]
  },
  {
   "cell_type": "markdown",
   "metadata": {},
   "source": [
    "Here, we can see that the hedge is long on smb, short on $\\beta^{smb,mkt} \\tilde{r}^m$. So, it optimally hedges the market, by forcing the asset to have correlation zero with the market as seen in the table above."
   ]
  },
  {
   "cell_type": "markdown",
   "metadata": {},
   "source": [
    "### 4.2.a"
   ]
  },
  {
   "cell_type": "code",
   "execution_count": 20,
   "metadata": {},
   "outputs": [
    {
     "data": {
      "text/html": [
       "<table class=\"simpletable\">\n",
       "<caption>OLS Regression Results</caption>\n",
       "<tr>\n",
       "  <th>Dep. Variable:</th>        <td>rx_mom_FF</td>    <th>  R-squared:         </th> <td>   0.233</td>\n",
       "</tr>\n",
       "<tr>\n",
       "  <th>Model:</th>                   <td>OLS</td>       <th>  Adj. R-squared:    </th> <td>   0.231</td>\n",
       "</tr>\n",
       "<tr>\n",
       "  <th>Method:</th>             <td>Least Squares</td>  <th>  F-statistic:       </th> <td>   113.4</td>\n",
       "</tr>\n",
       "<tr>\n",
       "  <th>Date:</th>             <td>Wed, 18 Nov 2020</td> <th>  Prob (F-statistic):</th> <td>4.16e-64</td>\n",
       "</tr>\n",
       "<tr>\n",
       "  <th>Time:</th>                 <td>20:18:37</td>     <th>  Log-Likelihood:    </th> <td>  1992.6</td>\n",
       "</tr>\n",
       "<tr>\n",
       "  <th>No. Observations:</th>      <td>  1124</td>      <th>  AIC:               </th> <td>  -3977.</td>\n",
       "</tr>\n",
       "<tr>\n",
       "  <th>Df Residuals:</th>          <td>  1120</td>      <th>  BIC:               </th> <td>  -3957.</td>\n",
       "</tr>\n",
       "<tr>\n",
       "  <th>Df Model:</th>              <td>     3</td>      <th>                     </th>     <td> </td>   \n",
       "</tr>\n",
       "<tr>\n",
       "  <th>Covariance Type:</th>      <td>nonrobust</td>    <th>                     </th>     <td> </td>   \n",
       "</tr>\n",
       "</table>\n",
       "<table class=\"simpletable\">\n",
       "<tr>\n",
       "      <td></td>        <th>coef</th>     <th>std err</th>      <th>t</th>      <th>P>|t|</th>  <th>[0.025</th>    <th>0.975]</th>  \n",
       "</tr>\n",
       "<tr>\n",
       "  <th>const</th>    <td>    0.0097</td> <td>    0.001</td> <td>    7.814</td> <td> 0.000</td> <td>    0.007</td> <td>    0.012</td>\n",
       "</tr>\n",
       "<tr>\n",
       "  <th>rx_mkt</th>   <td>   -0.2176</td> <td>    0.025</td> <td>   -8.789</td> <td> 0.000</td> <td>   -0.266</td> <td>   -0.169</td>\n",
       "</tr>\n",
       "<tr>\n",
       "  <th>rx_size</th>  <td>   -0.0448</td> <td>    0.041</td> <td>   -1.095</td> <td> 0.274</td> <td>   -0.125</td> <td>    0.035</td>\n",
       "</tr>\n",
       "<tr>\n",
       "  <th>rx_value</th> <td>   -0.4665</td> <td>    0.036</td> <td>  -12.944</td> <td> 0.000</td> <td>   -0.537</td> <td>   -0.396</td>\n",
       "</tr>\n",
       "</table>\n",
       "<table class=\"simpletable\">\n",
       "<tr>\n",
       "  <th>Omnibus:</th>       <td>394.835</td> <th>  Durbin-Watson:     </th> <td>   1.955</td>\n",
       "</tr>\n",
       "<tr>\n",
       "  <th>Prob(Omnibus):</th> <td> 0.000</td>  <th>  Jarque-Bera (JB):  </th> <td>3552.244</td>\n",
       "</tr>\n",
       "<tr>\n",
       "  <th>Skew:</th>          <td>-1.357</td>  <th>  Prob(JB):          </th> <td>    0.00</td>\n",
       "</tr>\n",
       "<tr>\n",
       "  <th>Kurtosis:</th>      <td>11.276</td>  <th>  Cond. No.          </th> <td>    34.1</td>\n",
       "</tr>\n",
       "</table><br/><br/>Warnings:<br/>[1] Standard Errors assume that the covariance matrix of the errors is correctly specified."
      ],
      "text/plain": [
       "<class 'statsmodels.iolib.summary.Summary'>\n",
       "\"\"\"\n",
       "                            OLS Regression Results                            \n",
       "==============================================================================\n",
       "Dep. Variable:              rx_mom_FF   R-squared:                       0.233\n",
       "Model:                            OLS   Adj. R-squared:                  0.231\n",
       "Method:                 Least Squares   F-statistic:                     113.4\n",
       "Date:                Wed, 18 Nov 2020   Prob (F-statistic):           4.16e-64\n",
       "Time:                        20:18:37   Log-Likelihood:                 1992.6\n",
       "No. Observations:                1124   AIC:                            -3977.\n",
       "Df Residuals:                    1120   BIC:                            -3957.\n",
       "Df Model:                           3                                         \n",
       "Covariance Type:            nonrobust                                         \n",
       "==============================================================================\n",
       "                 coef    std err          t      P>|t|      [0.025      0.975]\n",
       "------------------------------------------------------------------------------\n",
       "const          0.0097      0.001      7.814      0.000       0.007       0.012\n",
       "rx_mkt        -0.2176      0.025     -8.789      0.000      -0.266      -0.169\n",
       "rx_size       -0.0448      0.041     -1.095      0.274      -0.125       0.035\n",
       "rx_value      -0.4665      0.036    -12.944      0.000      -0.537      -0.396\n",
       "==============================================================================\n",
       "Omnibus:                      394.835   Durbin-Watson:                   1.955\n",
       "Prob(Omnibus):                  0.000   Jarque-Bera (JB):             3552.244\n",
       "Skew:                          -1.357   Prob(JB):                         0.00\n",
       "Kurtosis:                      11.276   Cond. No.                         34.1\n",
       "==============================================================================\n",
       "\n",
       "Warnings:\n",
       "[1] Standard Errors assume that the covariance matrix of the errors is correctly specified.\n",
       "\"\"\""
      ]
     },
     "execution_count": 20,
     "metadata": {},
     "output_type": "execute_result"
    }
   ],
   "source": [
    "rhs_4_2 = sm.add_constant(df_4_factors[['rx_mkt','rx_size', 'rx_value']])\n",
    "lhs_4_2 = df_4_factors['rx_mom_FF']\n",
    "res_4_2 = sm.OLS(lhs_4_2, rhs_4_2, missing='drop').fit()\n",
    "betas_4_2 = res_4_2.params\n",
    "r_sq_4_2 = res_4_2.rsquared\n",
    "res_4_2.summary()"
   ]
  },
  {
   "cell_type": "code",
   "execution_count": 21,
   "metadata": {},
   "outputs": [
    {
     "name": "stdout",
     "output_type": "stream",
     "text": [
      "Regression parameters\n",
      "Alpha:  0.009692763635650699\n",
      "Beta MKT:  -0.21761919990881878\n",
      "Beta SMB:  -0.04475815912017368\n",
      "Beta HML:  -0.4664898769069509\n",
      "Regression R-squared:  0.23293080073820593\n"
     ]
    }
   ],
   "source": [
    "print('Regression parameters')\n",
    "print('Alpha: ', betas_4_2[0])\n",
    "print('Beta MKT: ', betas_4_2[1])\n",
    "print('Beta SMB: ', betas_4_2[2])\n",
    "print('Beta HML: ', betas_4_2[3])\n",
    "print('Regression R-squared: ', r_sq_4_2)"
   ]
  },
  {
   "cell_type": "markdown",
   "metadata": {},
   "source": [
    "### 4.2.b"
   ]
  },
  {
   "cell_type": "code",
   "execution_count": 22,
   "metadata": {},
   "outputs": [
    {
     "name": "stdout",
     "output_type": "stream",
     "text": [
      "Mean MOM**:  0.006630871886121001\n",
      "Volatility MOM**:  0.022648679417412176\n",
      "Sharpe ratio MOM**:  0.2927707953260721\n"
     ]
    }
   ],
   "source": [
    "mom_2star = res_4_2.predict()\n",
    "\n",
    "mu_mom_2star = mom_2star.mean()\n",
    "vol_mom_2star = mom_2star.std()\n",
    "sharpe_mom_2star = mu_mom_2star / vol_mom_2star\n",
    "print('Mean MOM**: ', mu_mom_2star)\n",
    "print('Volatility MOM**: ', vol_mom_2star)\n",
    "print('Sharpe ratio MOM**: ', sharpe_mom_2star)"
   ]
  },
  {
   "cell_type": "code",
   "execution_count": 23,
   "metadata": {},
   "outputs": [
    {
     "name": "stdout",
     "output_type": "stream",
     "text": [
      "Moments correlation matrix\n"
     ]
    },
    {
     "data": {
      "text/html": [
       "<div>\n",
       "<style scoped>\n",
       "    .dataframe tbody tr th:only-of-type {\n",
       "        vertical-align: middle;\n",
       "    }\n",
       "\n",
       "    .dataframe tbody tr th {\n",
       "        vertical-align: top;\n",
       "    }\n",
       "\n",
       "    .dataframe thead th {\n",
       "        text-align: right;\n",
       "    }\n",
       "</style>\n",
       "<table border=\"1\" class=\"dataframe\">\n",
       "  <thead>\n",
       "    <tr style=\"text-align: right;\">\n",
       "      <th></th>\n",
       "      <th>rx_mom_FF</th>\n",
       "      <th>rx_mkt</th>\n",
       "      <th>rx_size</th>\n",
       "      <th>rx_value</th>\n",
       "      <th>smb*</th>\n",
       "      <th>mom**</th>\n",
       "    </tr>\n",
       "  </thead>\n",
       "  <tbody>\n",
       "    <tr>\n",
       "      <td>rx_mom_FF</td>\n",
       "      <td>1.0000</td>\n",
       "      <td>-0.3405</td>\n",
       "      <td>-0.1548</td>\n",
       "      <td>-0.4114</td>\n",
       "      <td>-0.0472</td>\n",
       "      <td>0.4826</td>\n",
       "    </tr>\n",
       "    <tr>\n",
       "      <td>rx_mkt</td>\n",
       "      <td>-0.3405</td>\n",
       "      <td>1.0000</td>\n",
       "      <td>0.3235</td>\n",
       "      <td>0.2356</td>\n",
       "      <td>-0.0000</td>\n",
       "      <td>-0.7056</td>\n",
       "    </tr>\n",
       "    <tr>\n",
       "      <td>rx_size</td>\n",
       "      <td>-0.1548</td>\n",
       "      <td>0.3235</td>\n",
       "      <td>1.0000</td>\n",
       "      <td>0.1264</td>\n",
       "      <td>0.9462</td>\n",
       "      <td>-0.3208</td>\n",
       "    </tr>\n",
       "    <tr>\n",
       "      <td>rx_value</td>\n",
       "      <td>-0.4114</td>\n",
       "      <td>0.2356</td>\n",
       "      <td>0.1264</td>\n",
       "      <td>1.0000</td>\n",
       "      <td>0.0530</td>\n",
       "      <td>-0.8525</td>\n",
       "    </tr>\n",
       "    <tr>\n",
       "      <td>smb*</td>\n",
       "      <td>-0.0472</td>\n",
       "      <td>-0.0000</td>\n",
       "      <td>0.9462</td>\n",
       "      <td>0.0530</td>\n",
       "      <td>1.0000</td>\n",
       "      <td>-0.0979</td>\n",
       "    </tr>\n",
       "    <tr>\n",
       "      <td>mom**</td>\n",
       "      <td>0.4826</td>\n",
       "      <td>-0.7056</td>\n",
       "      <td>-0.3208</td>\n",
       "      <td>-0.8525</td>\n",
       "      <td>-0.0979</td>\n",
       "      <td>1.0000</td>\n",
       "    </tr>\n",
       "  </tbody>\n",
       "</table>\n",
       "</div>"
      ],
      "text/plain": [
       "           rx_mom_FF  rx_mkt  rx_size  rx_value    smb*   mom**\n",
       "rx_mom_FF     1.0000 -0.3405  -0.1548   -0.4114 -0.0472  0.4826\n",
       "rx_mkt       -0.3405  1.0000   0.3235    0.2356 -0.0000 -0.7056\n",
       "rx_size      -0.1548  0.3235   1.0000    0.1264  0.9462 -0.3208\n",
       "rx_value     -0.4114  0.2356   0.1264    1.0000  0.0530 -0.8525\n",
       "smb*         -0.0472 -0.0000   0.9462    0.0530  1.0000 -0.0979\n",
       "mom**         0.4826 -0.7056  -0.3208   -0.8525 -0.0979  1.0000"
      ]
     },
     "execution_count": 23,
     "metadata": {},
     "output_type": "execute_result"
    }
   ],
   "source": [
    "smb_star_df['mom**'] = mom_2star\n",
    "print('Moments correlation matrix')\n",
    "smb_star_df.corr()"
   ]
  },
  {
   "cell_type": "markdown",
   "metadata": {},
   "source": [
    "Correlation of MOM and MOM** as shown in the table above is 0.4826, less than 1."
   ]
  },
  {
   "cell_type": "markdown",
   "metadata": {},
   "source": [
    "### 4.3"
   ]
  },
  {
   "cell_type": "markdown",
   "metadata": {},
   "source": [
    "In the case of SMB* it would not be possible to hedge out the market as the hedge is actually holding $\\tilde{r}^i_t - \\beta^{smb,mkt} \\tilde{r}^m_t = \\alpha + \\epsilon_t$ on the regression. In the case of the replication of MOM** we would have an extra restriction (not possible to invest in the risk free asset), however the replication should be very similar."
   ]
  },
  {
   "cell_type": "code",
   "execution_count": null,
   "metadata": {},
   "outputs": [],
   "source": []
  }
 ],
 "metadata": {
  "kernelspec": {
   "display_name": "Python 3",
   "language": "python",
   "name": "python3"
  },
  "language_info": {
   "codemirror_mode": {
    "name": "ipython",
    "version": 3
   },
   "file_extension": ".py",
   "mimetype": "text/x-python",
   "name": "python",
   "nbconvert_exporter": "python",
   "pygments_lexer": "ipython3",
   "version": "3.6.5"
  }
 },
 "nbformat": 4,
 "nbformat_minor": 2
}
